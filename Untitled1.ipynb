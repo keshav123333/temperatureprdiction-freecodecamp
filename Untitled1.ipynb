{
  "nbformat": 4,
  "nbformat_minor": 0,
  "metadata": {
    "colab": {
      "provenance": [],
      "authorship_tag": "ABX9TyM0XFdc6A/hfrrNHdxq/55r",
      "include_colab_link": true
    },
    "kernelspec": {
      "name": "python3",
      "display_name": "Python 3"
    },
    "language_info": {
      "name": "python"
    }
  },
  "cells": [
    {
      "cell_type": "markdown",
      "metadata": {
        "id": "view-in-github",
        "colab_type": "text"
      },
      "source": [
        "<a href=\"https://colab.research.google.com/github/keshav123333/temperatureprdiction-freecodecamp/blob/main/Untitled1.ipynb\" target=\"_parent\"><img src=\"https://colab.research.google.com/assets/colab-badge.svg\" alt=\"Open In Colab\"/></a>"
      ]
    },
    {
      "cell_type": "code",
      "execution_count": null,
      "metadata": {
        "id": "wb3LVz5m8GJ2"
      },
      "outputs": [],
      "source": [
        "!pip install opendatasets --upgrade --quiet\n"
      ]
    },
    {
      "cell_type": "code",
      "source": [
        "import opendatasets as od\n",
        "od.version()"
      ],
      "metadata": {
        "id": "i1YumX-R91p-"
      },
      "execution_count": null,
      "outputs": []
    },
    {
      "cell_type": "code",
      "source": [
        "url=\"https://www.kaggle.com/datasets/jsphyg/weather-dataset-rattle-package\"\n",
        "od.download(url)"
      ],
      "metadata": {
        "id": "MEFA8_J5I6SH"
      },
      "execution_count": null,
      "outputs": []
    },
    {
      "cell_type": "code",
      "source": [
        "import os\n",
        "data=\"./weather-dataset-rattle-package\"\n",
        "os.listdir(data)"
      ],
      "metadata": {
        "id": "IJ5gc2j6Jp1l"
      },
      "execution_count": null,
      "outputs": []
    },
    {
      "cell_type": "code",
      "source": [
        "traincsv=data+\"/weatherAUS.csv\""
      ],
      "metadata": {
        "id": "XRnxwdKwJ-pR"
      },
      "execution_count": null,
      "outputs": []
    },
    {
      "cell_type": "code",
      "source": [
        "import pandas as pd\n",
        "\n",
        "da=pd.read_csv(traincsv)\n",
        "da.head()"
      ],
      "metadata": {
        "id": "A1rps4c-KTkD"
      },
      "execution_count": null,
      "outputs": []
    },
    {
      "cell_type": "code",
      "source": [
        "da.info()"
      ],
      "metadata": {
        "id": "byUHW-5gKfUm"
      },
      "execution_count": null,
      "outputs": []
    },
    {
      "cell_type": "code",
      "source": [
        "da.dropna(subset=[\"RainToday\",\"RainTomorrow\"],inplace=True)"
      ],
      "metadata": {
        "id": "eg42-dNJMAy_"
      },
      "execution_count": null,
      "outputs": []
    },
    {
      "cell_type": "code",
      "source": [
        "import plotly.express as px\n",
        "import matplotlib\n",
        "import matplotlib.pyplot as plt\n",
        "import seaborn as sns\n",
        "import numpy as np\n",
        "%matplotlib inline"
      ],
      "metadata": {
        "id": "hJ3ahNklNe1G"
      },
      "execution_count": null,
      "outputs": []
    },
    {
      "cell_type": "code",
      "source": [
        "sns.set_style('darkgrid')\n",
        "\n",
        "# Configure Matplotlib settings\n",
        "plt.rcParams['font.size'] = 14\n",
        "plt.rcParams['figure.figsize'] = (10, 6)\n",
        "plt.rcParams['figure.facecolor'] = '#000000'\n",
        "\n",
        "da.Location.value_counts()"
      ],
      "metadata": {
        "id": "ak7E0F91NhCU"
      },
      "execution_count": null,
      "outputs": []
    },
    {
      "cell_type": "code",
      "source": [
        "px.histogram(da,x=\"Location\",color=\"RainToday\")"
      ],
      "metadata": {
        "id": "uAz73c4XN_Bl"
      },
      "execution_count": null,
      "outputs": []
    },
    {
      "cell_type": "code",
      "source": [
        "px.histogram(da,x=\"RainToday\",color=\"RainTomorrow\")"
      ],
      "metadata": {
        "id": "ODAJgCBvPJ2L"
      },
      "execution_count": null,
      "outputs": []
    },
    {
      "cell_type": "code",
      "source": [
        "year=pd.to_datetime(da[\"Date\"]).dt.year\n",
        "train_df=da[year<2015]\n",
        "val_df=da[year==2015]\n",
        "test_df=da[year>2015]\n",
        "print(train_df.shape)\n",
        "print(val_df.shape)\n",
        "print(test_df.shape)"
      ],
      "metadata": {
        "colab": {
          "base_uri": "https://localhost:8080/"
        },
        "id": "8tVYBua4_dl7",
        "outputId": "aeb7711c-da60-48b3-87f8-12f809be6545"
      },
      "execution_count": 14,
      "outputs": [
        {
          "output_type": "stream",
          "name": "stdout",
          "text": [
            "(97988, 23)\n",
            "(17089, 23)\n",
            "(25710, 23)\n"
          ]
        }
      ]
    }
  ]
}